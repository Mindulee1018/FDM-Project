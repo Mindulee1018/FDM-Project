{
 "cells": [
  {
   "cell_type": "markdown",
   "id": "c5a77d02-857b-4cd5-90e1-f150bfe6d35b",
   "metadata": {},
   "source": [
    "# <div align=\"center\"> AIRLINE PASSENGER SATISFACTION </div>"
   ]
  },
  {
   "cell_type": "markdown",
   "id": "69a6f013-1335-4c77-8232-e525c88879e5",
   "metadata": {},
   "source": [
    "## Import Library"
   ]
  },
  {
   "cell_type": "code",
   "execution_count": 3,
   "id": "ebc781b6-741b-44c3-a96c-24b02a1322f2",
   "metadata": {
    "scrolled": true
   },
   "outputs": [
    {
     "ename": "ModuleNotFoundError",
     "evalue": "No module named 'xgboost'",
     "output_type": "error",
     "traceback": [
      "\u001b[1;31m---------------------------------------------------------------------------\u001b[0m",
      "\u001b[1;31mModuleNotFoundError\u001b[0m                       Traceback (most recent call last)",
      "Cell \u001b[1;32mIn[3], line 12\u001b[0m\n\u001b[0;32m      8\u001b[0m get_ipython()\u001b[38;5;241m.\u001b[39mrun_line_magic(\u001b[38;5;124m'\u001b[39m\u001b[38;5;124mmatplotlib\u001b[39m\u001b[38;5;124m'\u001b[39m, \u001b[38;5;124m'\u001b[39m\u001b[38;5;124minline\u001b[39m\u001b[38;5;124m'\u001b[39m)\n\u001b[0;32m     10\u001b[0m pd\u001b[38;5;241m.\u001b[39mset_option(\u001b[38;5;124m'\u001b[39m\u001b[38;5;124mdisplay.max_columns\u001b[39m\u001b[38;5;124m'\u001b[39m, \u001b[38;5;241m200\u001b[39m)\n\u001b[1;32m---> 12\u001b[0m \u001b[38;5;28;01mfrom\u001b[39;00m \u001b[38;5;21;01mxgboost\u001b[39;00m \u001b[38;5;28;01mimport\u001b[39;00m XGBClassifier\n\u001b[0;32m     13\u001b[0m \u001b[38;5;28;01mfrom\u001b[39;00m \u001b[38;5;21;01msklearn\u001b[39;00m \u001b[38;5;28;01mimport\u001b[39;00m preprocessing\n\u001b[0;32m     14\u001b[0m \u001b[38;5;28;01mfrom\u001b[39;00m \u001b[38;5;21;01msklearn\u001b[39;00m\u001b[38;5;21;01m.\u001b[39;00m\u001b[38;5;21;01mimpute\u001b[39;00m \u001b[38;5;28;01mimport\u001b[39;00m SimpleImputer\n",
      "\u001b[1;31mModuleNotFoundError\u001b[0m: No module named 'xgboost'"
     ]
    }
   ],
   "source": [
    "import warnings\n",
    "warnings.filterwarnings('ignore')\n",
    "\n",
    "import numpy as np\n",
    "import pandas as pd\n",
    "import seaborn as sns\n",
    "import matplotlib.pyplot as plt\n",
    "%matplotlib inline\n",
    "\n",
    "pd.set_option('display.max_columns', 200)\n",
    "\n",
    "from xgboost import XGBClassifier\n",
    "from sklearn import preprocessing\n",
    "from sklearn.impute import SimpleImputer\n",
    "from sklearn.ensemble import RandomForestClassifier\n",
    "from sklearn.tree import DecisionTreeClassifier\n",
    "from sklearn.linear_model import LogisticRegression\n",
    "from sklearn.model_selection import train_test_split\n",
    "from sklearn.metrics import accuracy_score, recall_score, precision_score, accuracy_score\n",
    "from sklearn.metrics import confusion_matrix, roc_auc_score, f1_score, recall_score\n",
    "from sklearn.preprocessing import StandardScaler\n",
    "from sklearn.preprocessing import LabelEncoder\n",
    "from sklearn.neighbors import KNeighborsClassifier"
   ]
  },
  {
   "cell_type": "markdown",
   "id": "53d82e3c-4ea2-457b-bfaf-bfea4cfd6d03",
   "metadata": {},
   "source": [
    "## Read Dataset"
   ]
  },
  {
   "cell_type": "code",
   "execution_count": null,
   "id": "a742fdbc-4bbe-414c-ad6c-d6d2e7ed3d77",
   "metadata": {},
   "outputs": [],
   "source": [
    "#read dataset\n",
    "df = pd.read_csv('train.csv')\n",
    "df.head()"
   ]
  },
  {
   "cell_type": "code",
   "execution_count": null,
   "id": "fca6c79c-b63d-4daa-a2df-0a08fc5eeccf",
   "metadata": {},
   "outputs": [],
   "source": [
    "#display details\n",
    "df.info()"
   ]
  },
  {
   "cell_type": "code",
   "execution_count": null,
   "id": "dedc0948-b540-46a1-8e63-86db4ee3dd62",
   "metadata": {},
   "outputs": [],
   "source": [
    "#drop 'Unnamed: 0' column because is not necesary\n",
    "df.drop(['Unnamed: 0'],axis=1)"
   ]
  },
  {
   "cell_type": "code",
   "execution_count": null,
   "id": "ac4ca1ac-f55f-445b-855e-8d1f256dc4f4",
   "metadata": {},
   "outputs": [],
   "source": [
    "#display the shape of the data\n",
    "df.shape"
   ]
  },
  {
   "cell_type": "code",
   "execution_count": null,
   "id": "811c18e5-4c4e-42f1-9501-0a946044853f",
   "metadata": {},
   "outputs": [],
   "source": [
    "#describe the data\n",
    "df.describe().T"
   ]
  },
  {
   "cell_type": "code",
   "execution_count": null,
   "id": "8a3aa66d-af0d-40e1-8fa2-11288173dd69",
   "metadata": {},
   "outputs": [],
   "source": [
    "#check for any null values\n",
    "df.isnull().sum()"
   ]
  },
  {
   "cell_type": "code",
   "execution_count": null,
   "id": "909feede-ecbb-45b8-9067-6c5d95f2f6ce",
   "metadata": {},
   "outputs": [],
   "source": [
    "((df.shape[0] - df.dropna().shape[0]) / df.shape[0]) * 100"
   ]
  },
  {
   "cell_type": "code",
   "execution_count": null,
   "id": "af8b9ea3-80cc-4bd9-9118-2cad86a9af0c",
   "metadata": {},
   "outputs": [],
   "source": [
    "#check missing values\n",
    "def getmissing(df):\n",
    "    values = {}\n",
    "    for feat in df.columns:\n",
    "        if df[feat].isna().any():\n",
    "            values[feat] = round(df[feat].mean(),2)\n",
    "    return values"
   ]
  },
  {
   "cell_type": "code",
   "execution_count": null,
   "id": "1c204919-1220-4072-9be9-41eeb77da195",
   "metadata": {},
   "outputs": [],
   "source": [
    "values = getmissing(df)"
   ]
  },
  {
   "cell_type": "code",
   "execution_count": null,
   "id": "22089b25-8028-473e-875e-b050199222dd",
   "metadata": {},
   "outputs": [],
   "source": [
    "values"
   ]
  },
  {
   "cell_type": "code",
   "execution_count": null,
   "id": "91c8b691-242d-483b-ad01-52d786a3074b",
   "metadata": {},
   "outputs": [],
   "source": [
    "#fill missing value with median \n",
    "df['Arrival Delay in Minutes'].fillna(df['Arrival Delay in Minutes'].median(),inplace=True)"
   ]
  },
  {
   "cell_type": "code",
   "execution_count": null,
   "id": "322d67b7-e6f8-4a76-a111-05d8372a9c8f",
   "metadata": {},
   "outputs": [],
   "source": [
    "#checking duplicated data\n",
    "df.duplicated().sum()"
   ]
  },
  {
   "cell_type": "code",
   "execution_count": null,
   "id": "af8ac443-a2bf-46a5-a56e-8b2635611c10",
   "metadata": {},
   "outputs": [],
   "source": [
    "#drop 'Unnamed: 0' column and id colums because is not necesary\n",
    "df1 = df.drop(columns = ['Unnamed: 0','id'])"
   ]
  },
  {
   "cell_type": "code",
   "execution_count": null,
   "id": "b443a955-5717-4d81-be61-2f7d6e207b5d",
   "metadata": {},
   "outputs": [],
   "source": [
    "df1.head()"
   ]
  },
  {
   "cell_type": "markdown",
   "id": "5a71bb64-e655-49f3-86bd-441a8a716455",
   "metadata": {},
   "source": [
    "## Data Understanding "
   ]
  },
  {
   "cell_type": "code",
   "execution_count": null,
   "id": "2d0e3e4f-52ea-4aec-9aaf-42ddd2cc69fc",
   "metadata": {},
   "outputs": [],
   "source": [
    "categorical = ['Gender', 'Customer Type', 'Type of Travel', 'Class', 'satisfaction']\n",
    "numerical = ['Age', 'Flight Distance', 'Inflight wifi service', 'Departure/Arrival time convenient', 'Ease of Online booking', 'Gate location',\n",
    "              'Food and drink', 'Online boarding', 'Seat comfort', 'Inflight entertainment', 'On-board service',\n",
    "              'Leg room service', 'Baggage handling', 'Checkin service', 'Inflight service', 'Cleanliness', \n",
    "              'Departure Delay in Minutes', 'Arrival Delay in Minutes']"
   ]
  },
  {
   "cell_type": "code",
   "execution_count": null,
   "id": "ab853c9d-c2fc-43d4-810b-8a8b94be25a8",
   "metadata": {},
   "outputs": [],
   "source": [
    "#show statistic of numerical column\n",
    "df1[numerical].describe()"
   ]
  },
  {
   "cell_type": "code",
   "execution_count": null,
   "id": "3c2b607d-73dd-484a-af6a-d291ef0e9425",
   "metadata": {},
   "outputs": [],
   "source": [
    "#show statistical summary for categorical column\n",
    "df1[categorical].describe()"
   ]
  },
  {
   "cell_type": "code",
   "execution_count": null,
   "id": "6a66de73-7a9f-47cd-a6da-5ebb2957e1e3",
   "metadata": {},
   "outputs": [],
   "source": [
    "df['satisfaction'].unique()"
   ]
  },
  {
   "cell_type": "code",
   "execution_count": null,
   "id": "5673d279-b262-43d9-b9ff-933cfd8d84e1",
   "metadata": {},
   "outputs": [],
   "source": [
    "# Indicates the exact number of values\n",
    "# this code is very useful because it has multiple categorical columns\n",
    "for col in categorical:\n",
    "    print (f'Value counts of {col} column')\n",
    "    print(df[col].value_counts(), '\\n')"
   ]
  },
  {
   "cell_type": "markdown",
   "id": "898c368a-dee9-41e2-be19-690178f4437c",
   "metadata": {},
   "source": [
    "## Univariate Analysis :"
   ]
  },
  {
   "cell_type": "markdown",
   "id": "7097da67-f55f-4625-98b4-846c46bb6ad2",
   "metadata": {},
   "source": [
    "### Numeric Column ###"
   ]
  },
  {
   "cell_type": "markdown",
   "id": "5990e909-96e0-42ad-921b-cc6e8372682a",
   "metadata": {},
   "source": [
    "### (1). Show Outliers with Boxplot ###"
   ]
  },
  {
   "cell_type": "code",
   "execution_count": null,
   "id": "642faf80-0128-4c32-a258-ca48102006f5",
   "metadata": {},
   "outputs": [],
   "source": [
    "# Create the box plot with subplots and layout\n",
    "df1.plot(kind='box', subplots=True, layout=(8, 4), figsize=(25, 60))\n",
    "\n",
    "# Display the plot\n",
    "plt.show()"
   ]
  },
  {
   "cell_type": "code",
   "execution_count": null,
   "id": "c90151f8-5839-48e8-a60b-c93f050ebfbc",
   "metadata": {},
   "outputs": [],
   "source": [
    "sns.set(rc={\n",
    "            \"font.size\":10,\n",
    "            \"axes.titlesize\":10,\n",
    "            \"axes.labelsize\":15},\n",
    "             style=\"darkgrid\",\n",
    "            )\n",
    "\n",
    "fig, axs = plt.subplots(6, 3, figsize=(20,40))\n",
    "fig.tight_layout(pad=3.0)\n",
    "\n",
    "for f,ax in zip(numerical,axs.ravel()):\n",
    "    sns.set(font_scale = 2)\n",
    "    ax=sns.boxplot(ax=ax,data=df1,y=df1[f],color='#E3CF57')"
   ]
  },
  {
   "cell_type": "code",
   "execution_count": null,
   "id": "7aea2d18-32c1-431d-a797-9a95c083ac16",
   "metadata": {},
   "outputs": [],
   "source": [
    "# show the profile of outlier 1\n",
    "outlier1 = df1['Flight Distance'].max()\n",
    "\n",
    "df1[df1['Flight Distance'] == outlier1]"
   ]
  },
  {
   "cell_type": "code",
   "execution_count": null,
   "id": "9b2faa51-4c34-4288-9ea7-e424cf1228c9",
   "metadata": {},
   "outputs": [],
   "source": [
    "# Show the profile of outlier 2\n",
    "outlier2 = df1['Departure Delay in Minutes'].max()\n",
    "\n",
    "df1[df1['Departure Delay in Minutes'] == outlier2]"
   ]
  },
  {
   "cell_type": "code",
   "execution_count": null,
   "id": "2cd95a8c-813d-494b-a2c8-d102646883d6",
   "metadata": {},
   "outputs": [],
   "source": [
    "# Show the profile of outlier 3\n",
    "outlier3 = df1['Arrival Delay in Minutes'].max()\n",
    "\n",
    "df1[df1['Arrival Delay in Minutes'] == outlier3]"
   ]
  },
  {
   "cell_type": "code",
   "execution_count": null,
   "id": "51ea1c3e-3846-4263-856e-b37b8fe5f188",
   "metadata": {},
   "outputs": [],
   "source": [
    "# Show the profile of outlier 4\n",
    "outlier4 = df1['Checkin service'].min()\n",
    "\n",
    "df1[df1['Checkin service'] == outlier4]"
   ]
  },
  {
   "cell_type": "code",
   "execution_count": null,
   "id": "c54820b8-de0a-4d03-88b9-981674af0ca8",
   "metadata": {},
   "outputs": [],
   "source": [
    "df1['Checkin service'].unique()"
   ]
  },
  {
   "cell_type": "code",
   "execution_count": null,
   "id": "f6b24af3-fccc-4def-83f0-990537419dec",
   "metadata": {},
   "outputs": [],
   "source": [
    "df1['Gender'].unique()"
   ]
  },
  {
   "cell_type": "code",
   "execution_count": null,
   "id": "c6d7fe42-7b7d-4ce6-87da-a213fa4cd759",
   "metadata": {},
   "outputs": [],
   "source": [
    "#array of non continuos values\n",
    "non_continues = ['Inflight wifi service', 'Departure/Arrival time convenient',\n",
    "              'Ease of Online booking', 'Gate location', 'Food and drink', 'Online boarding','Seat comfort', 'Inflight entertainment','On-board service',\n",
    "              'Leg room service','Baggage handling', 'Checkin service','Inflight service','Cleanliness']\n",
    "len(non_continues)"
   ]
  },
  {
   "cell_type": "code",
   "execution_count": null,
   "id": "8cce874b-29af-4d45-aa4e-87c56b188fa1",
   "metadata": {},
   "outputs": [],
   "source": [
    "#displaying non continuos values in pie\n",
    "sns.set(rc={\n",
    "            \"font.size\":10,\n",
    "            \"axes.titlesize\":10,\n",
    "            \"axes.labelsize\":13},\n",
    "             style=\"darkgrid\")\n",
    "fig, axes = plt.subplots(7, 2, figsize = (20, 30))\n",
    "for i, col in enumerate(non_continues):\n",
    "    column_values = df1[col].value_counts()\n",
    "    labels = column_values.index\n",
    "    sizes = column_values.values\n",
    "    axes[i//2, i%2].pie(sizes,labels = labels, colors = sns.color_palette(\"pastel\"),autopct = '%1.0f%%', startangle = 90)\n",
    "    axes[i//2, i%2].axis('equal')\n",
    "    axes[i//2, i%2].set_title(col)\n",
    "plt.show()"
   ]
  },
  {
   "cell_type": "code",
   "execution_count": null,
   "id": "0cd43c64-8335-44be-8a11-336f6cf56ba6",
   "metadata": {},
   "outputs": [],
   "source": [
    "#plotting the barplot for numerical values\n",
    "sns.set(rc={'figure.figsize':(4, 4),\n",
    "            \"font.size\":8,\n",
    "            \"axes.titlesize\":8,\n",
    "            \"axes.labelsize\":8},\n",
    "             style=\"darkgrid\")\n",
    "for i in numerical:\n",
    "    sns.barplot(data=df1, x='satisfaction', y=i, palette='rocket_r')\n",
    "    plt.show()"
   ]
  },
  {
   "cell_type": "code",
   "execution_count": null,
   "id": "8403f9f5-9396-4b27-9f57-1b5b6e166771",
   "metadata": {},
   "outputs": [],
   "source": [
    "plt.figure(figsize=(15,30))\n",
    "for i in range(len(non_continues)):\n",
    "    plt.subplot(7,2,i+1)\n",
    "    plt.title(non_continues[i])\n",
    "    sns.countplot(x=df1[non_continues[i]],hue=df1['satisfaction'], palette = 'coolwarm')    \n",
    "plt.tight_layout()"
   ]
  },
  {
   "cell_type": "code",
   "execution_count": null,
   "id": "807c142d-502d-4775-a41e-8013dccb68f9",
   "metadata": {},
   "outputs": [],
   "source": [
    "#using the countplot for the categorical columns\n",
    "for col in categorical:\n",
    "    plt.figure(figsize = (4, 3))\n",
    "    sns.countplot(x = col, data = df1, palette = \"cividis\")\n",
    "    plt.show();"
   ]
  },
  {
   "cell_type": "code",
   "execution_count": null,
   "id": "13061d45-dd40-4bc4-ac53-b83f5c3989e5",
   "metadata": {},
   "outputs": [],
   "source": [
    "sns.set(rc={'figure.figsize':(8, 8),\n",
    "            \"font.size\":10,\n",
    "            \"axes.titlesize\":10,\n",
    "            \"axes.labelsize\":15},\n",
    "             style=\"darkgrid\",\n",
    "            )\n",
    "\n",
    "for col in categorical[:-1]:\n",
    "    plt.figure(figsize=(8, 6)) \n",
    "    sns.countplot(data=df1, x=col, hue ='satisfaction', palette='viridis')\n",
    "    plt.legend(loc=(1.05, 0.5))"
   ]
  },
  {
   "cell_type": "code",
   "execution_count": null,
   "id": "f9668f49-6e1b-44d9-aa70-b8bdbe6d9768",
   "metadata": {},
   "outputs": [],
   "source": [
    "sns.set(rc={\n",
    "            \"font.size\":10,\n",
    "            \"axes.titlesize\":10,\n",
    "            \"axes.labelsize\":13},\n",
    "             style=\"darkgrid\")\n",
    "fig, axes = plt.subplots(3, 2, figsize = (10, 10))\n",
    "for i, col in enumerate(categorical):\n",
    "    column_values = df1[col].value_counts()\n",
    "    labels = column_values.index\n",
    "    sizes = column_values.values\n",
    "    axes[i//2, i%2].pie(sizes,labels = labels, colors = sns.color_palette(\"BrBG\", 3),autopct = '%1.0f%%', startangle = 90)\n",
    "    axes[i//2, i%2].axis('equal')\n",
    "    axes[i//2, i%2].set_title(col)\n",
    "plt.show()"
   ]
  },
  {
   "cell_type": "markdown",
   "id": "72cde69b-a25e-4ed9-b622-caeed7b87e2d",
   "metadata": {},
   "source": [
    "## EDA Question"
   ]
  },
  {
   "cell_type": "markdown",
   "id": "6e9cb2d2-77f4-4352-a8db-922b999d705d",
   "metadata": {},
   "source": [
    "1. What is the level of airline passenger satisfaction based on Departure Delay and Arrival Delay?\n",
    "2. What is the level of airline passenger satisfaction when viewed based on Flight Distance and Departure Delay?\n",
    "3. What is the demographics of airline passengers in terms of age and type of trips taken by passengers?\n",
    "4. What is the demographics of airline passengers when viewed based on age and class used by passengers when using the airline?\n",
    "5. What is the level of airline passenger satisfaction when viewed based on Flight Distance?nce?"
   ]
  },
  {
   "cell_type": "markdown",
   "id": "e3634d9c-9724-4729-a0d0-80e57129778f",
   "metadata": {},
   "source": [
    "### 1. Departure Delay & Arrival Delay:"
   ]
  },
  {
   "cell_type": "code",
   "execution_count": null,
   "id": "1f68feb9-2fa3-4b65-88c7-5dad9851530c",
   "metadata": {},
   "outputs": [],
   "source": [
    "#level of satisfaction based on arrival and departure delay\n",
    "df1.groupby('satisfaction')['Departure Delay in Minutes'].mean()"
   ]
  },
  {
   "cell_type": "code",
   "execution_count": null,
   "id": "6c145f12-cdc4-42e0-97d5-b9f258be3bcb",
   "metadata": {},
   "outputs": [],
   "source": [
    "df1.groupby('satisfaction')['Arrival Delay in Minutes'].mean()"
   ]
  },
  {
   "cell_type": "code",
   "execution_count": null,
   "id": "7dd13458-8181-407e-9b48-26c8103fb9d9",
   "metadata": {},
   "outputs": [],
   "source": [
    "sns.set(rc={\n",
    "            \"font.size\":10,\n",
    "            \"axes.titlesize\":10,\n",
    "            \"axes.labelsize\":13},\n",
    "             style=\"darkgrid\")\n",
    "plt.figure(figsize=(10, 5), dpi=100)\n",
    "sns.scatterplot(data=df1, x='Arrival Delay in Minutes', y='Departure Delay in Minutes', hue='satisfaction', palette='cubehelix', alpha=0.8);"
   ]
  },
  {
   "cell_type": "markdown",
   "id": "af918a20-7007-46ae-9d32-f0f0e49e6323",
   "metadata": {},
   "source": [
    "### 2.  Flight Distance & Departure Delay:"
   ]
  },
  {
   "cell_type": "code",
   "execution_count": null,
   "id": "4f85f120-2937-47c0-8c0e-46fbe0e552f6",
   "metadata": {},
   "outputs": [],
   "source": [
    "#satisfaction level based on departure delay and flight distance\n",
    "sns.set(rc={\n",
    "            \"font.size\":10,\n",
    "            \"axes.titlesize\":10,\n",
    "            \"axes.labelsize\":13},\n",
    "             style=\"darkgrid\")\n",
    "plt.figure(figsize=(10,5), dpi=100)\n",
    "sns.scatterplot(data=df1, x='Flight Distance', y='Departure Delay in Minutes', hue='satisfaction', palette='magma_r', alpha=0.8)\n",
    "plt.ylim(0,1000);"
   ]
  },
  {
   "cell_type": "markdown",
   "id": "222a25a9-ee5c-4b4d-9e3a-6cb887ae2113",
   "metadata": {},
   "source": [
    "### 3. Age & Customer Type:"
   ]
  },
  {
   "cell_type": "code",
   "execution_count": null,
   "id": "029190de-aee1-49e1-90b6-058d35954ae0",
   "metadata": {},
   "outputs": [],
   "source": [
    "#demographic of passengers based on age and customer type\n",
    "f, ax = plt.subplots(1, 2, figsize = (10, 5))\n",
    "sns.boxplot(x = \"Customer Type\", y = \"Age\", palette = \"PRGn\", data = df, ax = ax[0])\n",
    "sns.histplot(df1, x = \"Age\", hue = \"Customer Type\", multiple = \"stack\", palette = \"PRGn\", edgecolor = \".3\", \n",
    "             linewidth = .5, ax = ax[1]);"
   ]
  },
  {
   "cell_type": "markdown",
   "id": "f3ba82d7-716e-4f0b-83b2-7e02cf0887a4",
   "metadata": {},
   "source": [
    "### 4. Age & Class:"
   ]
  },
  {
   "cell_type": "code",
   "execution_count": null,
   "id": "b3c169fe-dddb-421f-a2ee-2771219a019c",
   "metadata": {},
   "outputs": [],
   "source": [
    "#demographic based on age and class\n",
    "f, ax = plt.subplots(1, 2, figsize = (15, 5))\n",
    "sns.boxplot(x = \"Class\", y = \"Age\", palette = \"gnuplot2_r\", data = df1, ax = ax[0])\n",
    "sns.histplot(df1, x = \"Age\", hue = \"Class\", multiple = \"stack\", palette = \"gnuplot2_r\", edgecolor = \".3\", \n",
    "             linewidth = .5, ax = ax[1]);"
   ]
  },
  {
   "cell_type": "code",
   "execution_count": null,
   "id": "8f77d7b6-d06d-4012-b369-6fbfa547899f",
   "metadata": {},
   "outputs": [],
   "source": [
    "f, ax = plt.subplots(1, 2, figsize = (15,5))\n",
    "sns.boxplot(x = \"Class\", y = \"Flight Distance\", palette = \"gnuplot2_r\", data = df1, ax = ax[0])\n",
    "sns.histplot(df1, x = \"Flight Distance\", hue = \"Class\", multiple = \"stack\", palette = \"gnuplot2_r\", edgecolor = \".3\", \n",
    "             linewidth = .5, ax = ax[1]);"
   ]
  },
  {
   "cell_type": "markdown",
   "id": "d1ae86bc-e7e8-41e2-8353-7eff172b5146",
   "metadata": {},
   "source": [
    "### 5. Flight Distance"
   ]
  },
  {
   "cell_type": "code",
   "execution_count": null,
   "id": "78dbda18-625e-4c45-b87a-a2c3cd547e35",
   "metadata": {},
   "outputs": [],
   "source": [
    "#level of satisfaction based on just the flight distance\n",
    "f, ax = plt.subplots(2, 2, figsize = (15, 8))\n",
    "sns.boxplot(x = \"Inflight entertainment\", y = \"Flight Distance\", palette = \"gnuplot2\", data = df1, ax = ax[0, 0])\n",
    "sns.histplot(df1, x = \"Flight Distance\", hue = \"Inflight entertainment\", multiple = \"stack\", palette = \"gnuplot2\", \n",
    "             edgecolor = \".3\", linewidth = .5, ax = ax[0, 1])\n",
    "sns.boxplot(x = \"Leg room service\", y = \"Flight Distance\", palette = \"gnuplot2_r\", data = df1, ax = ax[1, 0])\n",
    "sns.histplot(df1, x = \"Flight Distance\", hue = \"Leg room service\", multiple = \"stack\", palette = \"gnuplot2\", \n",
    "             edgecolor = \".3\", linewidth = .5, ax = ax[1, 1]);"
   ]
  },
  {
   "cell_type": "markdown",
   "id": "c5a13d35-e8f2-4ebd-ba3c-1e89795d4b2a",
   "metadata": {},
   "source": [
    "## Multivariate Analysis"
   ]
  },
  {
   "cell_type": "markdown",
   "id": "d820a1d3-d5b4-4e7b-a48f-742e3357e41a",
   "metadata": {},
   "source": [
    "### Using Pearson's Correlation for Drawing Heatmap:"
   ]
  },
  {
   "cell_type": "markdown",
   "id": "75014f3a-0cb5-45a4-8ea9-bc763106f75b",
   "metadata": {},
   "source": [
    "### Correlation Heatmap for Numeric Column"
   ]
  },
  {
   "cell_type": "code",
   "execution_count": null,
   "id": "844390bd-5c2a-4517-8652-ae604228f1e9",
   "metadata": {},
   "outputs": [],
   "source": [
    "correlation = df1.corr(numeric_only=True)\n",
    "plt.figure(figsize = (20, 15))\n",
    "sns.heatmap(correlation, annot = True, fmt = '.2f', cmap = 'viridis');"
   ]
  },
  {
   "cell_type": "code",
   "execution_count": null,
   "id": "09e3ec1c-254c-4c80-a65d-840ac4f96b5f",
   "metadata": {},
   "outputs": [],
   "source": [
    "plt.scatter(df1['Departure Delay in Minutes'], df['Arrival Delay in Minutes'], alpha = 0.5, color = '#7880b5')\n",
    "pass;"
   ]
  },
  {
   "cell_type": "markdown",
   "id": "adf2687f-4f02-44c2-af7e-af0099fee278",
   "metadata": {},
   "source": [
    "### Dependent Variable or Feature:"
   ]
  },
  {
   "cell_type": "code",
   "execution_count": null,
   "id": "9847e3bd-969a-482e-a292-35bfc83915b4",
   "metadata": {},
   "outputs": [],
   "source": [
    "df1[\"satisfaction\"].value_counts()"
   ]
  },
  {
   "cell_type": "markdown",
   "id": "f6fa5877-69b3-4a22-bc3e-1b3d33f906ea",
   "metadata": {},
   "source": [
    "### Check Dependent Variable is Balanced or Not:"
   ]
  },
  {
   "cell_type": "code",
   "execution_count": null,
   "id": "f080104a-ca6c-4741-91f9-74078fc58f15",
   "metadata": {},
   "outputs": [],
   "source": [
    "round(df1[\"satisfaction\"].value_counts()[1]/(df1[\"satisfaction\"].value_counts()[0]+df1[\"satisfaction\"].value_counts()[1])*100,2)"
   ]
  },
  {
   "cell_type": "code",
   "execution_count": null,
   "id": "823f9c4a-bbcc-40fe-916d-1d8d99ac3716",
   "metadata": {},
   "outputs": [],
   "source": [
    "target = df1['satisfaction'].value_counts().reset_index()\n",
    "target.rename(columns={'index':'satisfaction','satisfaction':'freq'}, inplace=True)\n",
    "target['percentage'] = round((target['freq']/target['freq'].sum())*100,2)\n",
    "target"
   ]
  },
  {
   "cell_type": "markdown",
   "id": "519f939d-e1c4-4966-a436-c911e0d4a41a",
   "metadata": {},
   "source": [
    "### EDA on Feature Satisfaction:"
   ]
  },
  {
   "cell_type": "code",
   "execution_count": null,
   "id": "a212ec42-ef43-4e22-ac04-4063fd757e12",
   "metadata": {},
   "outputs": [],
   "source": [
    "fig, (ax1,ax2) = plt.subplots(1,2,figsize=(8,4))\n",
    "df1['satisfaction'].value_counts().plot.pie(explode=[0,0.1],colors = sns.color_palette(\"RdYlBu\"),autopct='%1.1f%%',ax=ax1)\n",
    "ax1.set_title('Percentage of Satisfaction')\n",
    "sns.countplot(x='satisfaction',data=df,ax=ax2,palette='RdYlBu')\n",
    "ax2.set_title('Distribution of Satisfaction')\n",
    "plt.show();"
   ]
  },
  {
   "cell_type": "markdown",
   "id": "23ece869-58d3-4533-9daa-321f8b85e0bd",
   "metadata": {},
   "source": [
    "## Data Preprocessing and Feature Engineering:"
   ]
  },
  {
   "cell_type": "markdown",
   "id": "e3b604a0-efa2-4613-9516-e39e293c52a4",
   "metadata": {},
   "source": [
    "### Handling Categorical Column (Encoding)"
   ]
  },
  {
   "cell_type": "code",
   "execution_count": null,
   "id": "ac180b5f-76de-49aa-881c-f32ee494b47b",
   "metadata": {},
   "outputs": [],
   "source": [
    "def categoricals_unique(data):\n",
    "    for column in data:\n",
    "        if data[column].dtypes == 'object':\n",
    "            print(f'{column} : {data[column].unique()}')"
   ]
  },
  {
   "cell_type": "code",
   "execution_count": null,
   "id": "ad529f98-0c8a-47f0-9200-7ebfb22040ad",
   "metadata": {},
   "outputs": [],
   "source": [
    "categoricals_unique(df1)"
   ]
  },
  {
   "cell_type": "code",
   "execution_count": null,
   "id": "2ff6f2f2-c421-4e93-9ca1-d62bf745dd3e",
   "metadata": {},
   "outputs": [],
   "source": [
    "for i in df1.columns:\n",
    "    if df1[i].dtype=='object':\n",
    "            label_encoder=preprocessing.LabelEncoder()\n",
    "            df1[i]=label_encoder.fit_transform(df1[i])"
   ]
  },
  {
   "cell_type": "code",
   "execution_count": null,
   "id": "05c1f8e2-0ccf-4f56-98d9-8cbf182f3f67",
   "metadata": {},
   "outputs": [],
   "source": [
    "df1['Class'].unique()"
   ]
  },
  {
   "cell_type": "code",
   "execution_count": null,
   "id": "412645a2-031f-418d-8f92-6ad3457744a1",
   "metadata": {},
   "outputs": [],
   "source": [
    "df1.head()"
   ]
  },
  {
   "cell_type": "code",
   "execution_count": null,
   "id": "0eee5c6d-b216-41b0-96f8-da9991421e82",
   "metadata": {},
   "outputs": [],
   "source": [
    "df1.info()"
   ]
  },
  {
   "cell_type": "markdown",
   "id": "cc651c7a-27c8-4c70-82e7-d2d8cb056e6a",
   "metadata": {},
   "source": [
    "### Split Data: Training-Testing"
   ]
  },
  {
   "cell_type": "code",
   "execution_count": null,
   "id": "33c0075b-5d6c-4475-a3b9-a3b4b9b067ec",
   "metadata": {},
   "outputs": [],
   "source": [
    "feature = df1.drop(columns = 'satisfaction')\n",
    "target = df1[['satisfaction']]\n",
    "\n",
    "feature_train, feature_test, target_train, target_test = train_test_split(feature, target, test_size = 0.20, random_state = 42)"
   ]
  },
  {
   "cell_type": "code",
   "execution_count": null,
   "id": "ec6e13e0-80d2-44be-b0e1-8c31e27fc25f",
   "metadata": {},
   "outputs": [],
   "source": [
    "feature_train.shape"
   ]
  },
  {
   "cell_type": "code",
   "execution_count": null,
   "id": "cbc54424-8ecd-42a2-8ba9-207709b02c9a",
   "metadata": {},
   "outputs": [],
   "source": []
  },
  {
   "cell_type": "markdown",
   "id": "69b8cce6-7ddb-4d08-9fe7-2a700eb0f216",
   "metadata": {},
   "source": [
    "## 1. LGBMClasifier"
   ]
  },
  {
   "cell_type": "code",
   "execution_count": null,
   "id": "cd574247-1988-4619-8f4e-67704c8118dd",
   "metadata": {},
   "outputs": [],
   "source": [
    "import lightgbm as lgb"
   ]
  },
  {
   "cell_type": "code",
   "execution_count": null,
   "id": "97c5d475-0b07-46b1-a154-f9e5cd2505c4",
   "metadata": {},
   "outputs": [],
   "source": []
  },
  {
   "cell_type": "markdown",
   "id": "c6721601-a62d-4fd5-a590-601e5857b7bd",
   "metadata": {},
   "source": [
    "## 2. DecisionTreeClassifier"
   ]
  },
  {
   "cell_type": "code",
   "execution_count": 88,
   "id": "ecef30a9-5744-4d5c-95b5-4016f3ea1ea3",
   "metadata": {},
   "outputs": [],
   "source": [
    "data = pd.DataFrame({\n",
    "    'Customer Type': ['First-time', 'Returning', 'First-time', 'Returning'],\n",
    "    'Age': [25, 30, 22, 35],\n",
    "    'Type of Travel': ['Business', 'Personal', 'Business', 'Personal'],\n",
    "    'Flight Distance': [1000, 2000, 1500, 3000],\n",
    "    'Inflight wifi service': [4, 3, 5, 2],\n",
    "    'Departure/Arrival time convenient': [5, 4, 3, 2],\n",
    "    'Ease of Online booking': [3, 5, 4, 2],\n",
    "    'Gate location': [3, 2, 4, 5],\n",
    "    'Food and drink': [4, 3, 5, 2],\n",
    "    'Online boarding': [5, 4, 3, 2],\n",
    "    'Seat comfort': [4, 2, 5, 3],\n",
    "    'Inflight entertainment': [5, 3, 4, 2],\n",
    "    'On-board service': [4, 5, 3, 2],\n",
    "    'Leg room service': [4, 3, 5, 2],\n",
    "    'Baggage handling': [5, 4, 3, 2],\n",
    "    'Checkin service': [4, 5, 3, 2],\n",
    "    'Cleanliness': [5, 4, 2, 3],\n",
    "    'Departure Delay': [10, 20, 15, 5],\n",
    "    'Arrival Delay': [5, 10, 0, 5],\n",
    "    'Satisfaction': [1, 0, 1, 0]  # 1 for satisfied, 0 for not satisfied\n",
    "})"
   ]
  },
  {
   "cell_type": "code",
   "execution_count": 96,
   "id": "53af5a78-e4f1-425d-945a-273aa704cdfd",
   "metadata": {},
   "outputs": [
    {
     "ename": "NameError",
     "evalue": "name 'feature_train' is not defined",
     "output_type": "error",
     "traceback": [
      "\u001b[1;31m---------------------------------------------------------------------------\u001b[0m",
      "\u001b[1;31mNameError\u001b[0m                                 Traceback (most recent call last)",
      "Cell \u001b[1;32mIn[96], line 5\u001b[0m\n\u001b[0;32m      2\u001b[0m decision_tree \u001b[38;5;241m=\u001b[39m DecisionTreeClassifier()\n\u001b[0;32m      4\u001b[0m \u001b[38;5;66;03m# Train the model on the training data\u001b[39;00m\n\u001b[1;32m----> 5\u001b[0m decision_tree\u001b[38;5;241m.\u001b[39mfit(feature_train, target_train)\n",
      "\u001b[1;31mNameError\u001b[0m: name 'feature_train' is not defined"
     ]
    }
   ],
   "source": [
    "# Create the DecisionTreeClassifier model\n",
    "decision_tree = DecisionTreeClassifier()\n",
    "\n",
    "# Train the model on the training data\n",
    "decision_tree.fit(feature_train, target_train)"
   ]
  },
  {
   "cell_type": "markdown",
   "id": "070b7595-9800-40ec-88ee-cf3d1a7cde12",
   "metadata": {},
   "source": [
    "### Model Prediction"
   ]
  },
  {
   "cell_type": "code",
   "execution_count": null,
   "id": "cb46ac49-9216-4909-97dd-6ce8830801d4",
   "metadata": {},
   "outputs": [],
   "source": [
    "target_pred = decision_tree.predict(feature_test)"
   ]
  },
  {
   "cell_type": "markdown",
   "id": "3fd415c9-91be-4a68-ab54-1ec1f4e9db07",
   "metadata": {},
   "source": [
    "### Accuracy of the Model:"
   ]
  },
  {
   "cell_type": "code",
   "execution_count": null,
   "id": "0542234c-3c23-4ad9-9a6e-ac4029cf0f58",
   "metadata": {},
   "outputs": [],
   "source": [
    "accuracy = accuracy_score(target_pred, target_test)\n",
    "print('Decision Tree Model accuracy score: {0:0.4f}'.format(accuracy))"
   ]
  },
  {
   "cell_type": "markdown",
   "id": "db32a966-7dd0-4d3f-9239-a4758dcee940",
   "metadata": {},
   "source": [
    "### Compare accuracy between training and test sets"
   ]
  },
  {
   "cell_type": "code",
   "execution_count": null,
   "id": "a430f374-12c0-4073-8aee-2cac2dc366fd",
   "metadata": {},
   "outputs": [],
   "source": [
    "target_pred_train = decision_tree.predict(feature_train)\n",
    "print('Training-set accuracy score: {0:0.4f}'.format(accuracy_score(target_train, target_pred_train)))"
   ]
  },
  {
   "cell_type": "markdown",
   "id": "57023426-1f81-4f39-8575-94686e451b26",
   "metadata": {},
   "source": [
    "### Check Overfitting"
   ]
  },
  {
   "cell_type": "code",
   "execution_count": null,
   "id": "8520ca32-7a47-4b25-8f29-6285064eb006",
   "metadata": {},
   "outputs": [],
   "source": [
    "print('Training set score: {:.4f}'.format(decision_tree.score(feature_train, target_train)))\n",
    "print('Test set score: {:.4f}'.format(decision_tree.score(feature_test, target_test)))"
   ]
  },
  {
   "cell_type": "markdown",
   "id": "8129fc75-8a74-4622-8f58-c84b009ccb1d",
   "metadata": {},
   "source": [
    "### Confusion Matrix:"
   ]
  },
  {
   "cell_type": "code",
   "execution_count": null,
   "id": "91cc5190-fa86-49c6-9603-cee3e31608ab",
   "metadata": {},
   "outputs": [],
   "source": [
    "from sklearn.metrics import confusion_matrix, ConfusionMatrixDisplay\n",
    "\n",
    "fig, ax = plt.subplots(figsize=(10,7))\n",
    "\n",
    "cm = confusion_matrix(target_test, target_pred)\n",
    "disp = ConfusionMatrixDisplay(confusion_matrix=cm, display_labels=np.unique(target_test))  # Include class labels for better interpretation\n",
    "disp.plot()\n",
    "plt.show()"
   ]
  },
  {
   "cell_type": "markdown",
   "id": "9c063169-c428-47c2-ac06-2d27955e9de3",
   "metadata": {},
   "source": [
    "### Classification Metrics:"
   ]
  },
  {
   "cell_type": "code",
   "execution_count": null,
   "id": "10e8bf31-63ce-4134-bd4f-f80eeb8e2019",
   "metadata": {},
   "outputs": [],
   "source": [
    "from sklearn.metrics import classification_report\n",
    "print(classification_report(target_test, target_pred))"
   ]
  },
  {
   "cell_type": "code",
   "execution_count": null,
   "id": "d3d2c7b2-ea90-4f1c-bdea-37e0710fc35c",
   "metadata": {},
   "outputs": [],
   "source": []
  },
  {
   "cell_type": "markdown",
   "id": "32888f0f-7673-4dae-bcf2-f229ac911b2e",
   "metadata": {},
   "source": [
    "## 3.XGB CClassifier"
   ]
  },
  {
   "cell_type": "code",
   "execution_count": null,
   "id": "97f10fb6-3df5-4021-b925-c3798849e115",
   "metadata": {},
   "outputs": [],
   "source": [
    "import xgboost as xgb\n",
    "from xgboost.sklearn import XGBClassifier"
   ]
  },
  {
   "cell_type": "code",
   "execution_count": null,
   "id": "ebccf3e6-d595-409c-8d78-0b1f74e42b15",
   "metadata": {},
   "outputs": [],
   "source": [
    "xgb = XGBClassifier(n_estimators=100)\n",
    "xgb.fit(feature_train, target_train)"
   ]
  },
  {
   "cell_type": "markdown",
   "id": "34b52bb0-4e18-4f5e-8d1e-51d3c892e22b",
   "metadata": {},
   "source": [
    "### MODEL PREDICTION"
   ]
  },
  {
   "cell_type": "code",
   "execution_count": null,
   "id": "175ddcb9-38dd-46a7-a21e-085d343949f7",
   "metadata": {},
   "outputs": [],
   "source": [
    "# predict the results\n",
    "target_pred1 = xgb.predict(feature_test)"
   ]
  },
  {
   "cell_type": "markdown",
   "id": "ff6ce479-fd39-41fa-9ae8-9cc9d6eae34a",
   "metadata": {},
   "source": [
    "## Show The Accuracy of the model"
   ]
  },
  {
   "cell_type": "code",
   "execution_count": null,
   "id": "9d34cbb8-12f5-44de-9802-d838593c3eea",
   "metadata": {},
   "outputs": [],
   "source": [
    "from sklearn.metrics import accuracy_score\n",
    "accuracy1 = accuracy_score(target_pred1, target_test)\n",
    "print('XGBClassifier Model accuracy score: {0:0.4f}'.format(accuracy_score(target_test, target_pred1)))"
   ]
  },
  {
   "cell_type": "markdown",
   "id": "ac4897c3-4ffc-4d7f-beff-ddbcd50eff3c",
   "metadata": {},
   "source": [
    "## Coimpare Between Train dan Test set Accuracy:"
   ]
  },
  {
   "cell_type": "code",
   "execution_count": null,
   "id": "f28bb505-8564-4ddb-8ac9-03bc4f3eb7c5",
   "metadata": {},
   "outputs": [],
   "source": [
    "target_pred_train1 = xgb.predict(feature_train)\n",
    "print('Training-set accuracy score: {0:0.4f}'. format(accuracy_score(target_train, target_pred_train1)))"
   ]
  },
  {
   "cell_type": "code",
   "execution_count": null,
   "id": "d35a14f8-4557-4902-904c-77d11cd96aa5",
   "metadata": {},
   "outputs": [],
   "source": [
    "#import the model\n",
    "\n",
    "from xgboost import XGBClassifier\n",
    "\n",
    "#fit the model\n",
    "xgb = XGBClassifier()\n",
    "xgb.fit(feature_train, target_train)\n",
    "\n",
    "# prediction\n",
    "pred_train = xgb.predict(feature_train)\n",
    "\n",
    "# model name\n",
    "model_name = str(type(xgb)).split(\".\")[-1][0:-2]\n",
    "print(f\"\\t\\t{model_name.upper()} MODEL\\n\")\n",
    "\n",
    "print('Training part:')\n",
    "print(classification_report(target_train, pred_train,\n",
    "                                    target_names=['Neutral or Dissatisfied', 'Satisfied']))\n",
    "\n",
    "print(\"Accuracy score for training dataset\",accuracy_score(target_train, pred_train))"
   ]
  },
  {
   "cell_type": "markdown",
   "id": "6bf71a46-b54f-44ba-bb86-ccaf8a59324f",
   "metadata": {},
   "source": [
    "## Check Overfitting"
   ]
  },
  {
   "cell_type": "code",
   "execution_count": null,
   "id": "efb8c56b-8597-4b65-b8d9-112a5ef9c624",
   "metadata": {},
   "outputs": [],
   "source": [
    "print('Training set score: {:.4f}'.format(xgb.score(feature_train, target_train)))\n",
    "print('Test set score: {:.4f}'.format(xgb.score(feature_test, target_test)))"
   ]
  },
  {
   "cell_type": "markdown",
   "id": "eb8b158c-cfe3-441d-8e69-acb5098f2f6e",
   "metadata": {},
   "source": [
    "##Saving the trained model"
   ]
  },
  {
   "cell_type": "code",
   "execution_count": 48,
   "id": "d610d60a-c646-4a3f-85cd-fba87f597311",
   "metadata": {},
   "outputs": [
    {
     "name": "stdout",
     "output_type": "stream",
     "text": [
      "Collecting pickle-mixin\n",
      "  Using cached pickle_mixin-1.0.2-py3-none-any.whl\n",
      "Installing collected packages: pickle-mixin\n",
      "Successfully installed pickle-mixin-1.0.2\n"
     ]
    }
   ],
   "source": [
    "!pip install pickle-mixin"
   ]
  },
  {
   "cell_type": "code",
   "execution_count": 76,
   "id": "b1515a47-fbf7-4457-acbf-0d82c3e298a9",
   "metadata": {},
   "outputs": [
    {
     "name": "stdout",
     "output_type": "stream",
     "text": [
      "Model saved successfully.\n"
     ]
    }
   ],
   "source": [
    "import pickle\n",
    "from sklearn.tree import DecisionTreeClassifier\n",
    "from sklearn.model_selection import train_test_split\n",
    "\n",
    "# Example data preparation\n",
    "# Replace this with your actual data loading and preprocessing\n",
    "X = [[1, 2], [2, 3], [3, 4]]\n",
    "y = [0, 1, 0]\n",
    "X_train, X_test, y_train, y_test = train_test_split(X, y, test_size=0.2, random_state=42)\n",
    "\n",
    "# Train the model\n",
    "decision_tree = DecisionTreeClassifier()\n",
    "decision_tree.fit(X_train, y_train)\n",
    "\n",
    "# Save the model\n",
    "with open('decision_tree_model.pkl', 'wb') as model_file:\n",
    "    pickle.dump(decision_tree, model_file)\n",
    "\n",
    "print(\"Model saved successfully.\")\n"
   ]
  },
  {
   "cell_type": "code",
   "execution_count": 78,
   "id": "8d88b54c-d6a0-487b-854d-398dfa67c67b",
   "metadata": {},
   "outputs": [
    {
     "name": "stdout",
     "output_type": "stream",
     "text": [
      "Model loaded successfully.\n"
     ]
    }
   ],
   "source": [
    "import pickle\n",
    "\n",
    "# Loading the saved model\n",
    "try:\n",
    "    loaded_model = pickle.load(open('C:/Users/imaya/Y3S1/FDM/FDM-Project/decision_tree_model.pkl', 'rb'))\n",
    "    print(\"Model loaded successfully.\")\n",
    "except FileNotFoundError:\n",
    "    print(\"Model file not found. Please check the file name and path.\")\n",
    "except Exception as e:\n",
    "    print(f\"An error occurred: {e}\")\n"
   ]
  },
  {
   "cell_type": "code",
   "execution_count": null,
   "id": "c61ad264-6cee-4e99-9f00-5bff0ed6a4fc",
   "metadata": {},
   "outputs": [],
   "source": []
  }
 ],
 "metadata": {
  "kernelspec": {
   "display_name": "Python 3 (ipykernel)",
   "language": "python",
   "name": "python3"
  },
  "language_info": {
   "codemirror_mode": {
    "name": "ipython",
    "version": 3
   },
   "file_extension": ".py",
   "mimetype": "text/x-python",
   "name": "python",
   "nbconvert_exporter": "python",
   "pygments_lexer": "ipython3",
   "version": "3.12.4"
  }
 },
 "nbformat": 4,
 "nbformat_minor": 5
}

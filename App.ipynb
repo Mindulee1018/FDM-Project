{
 "cells": [
  {
   "cell_type": "code",
   "execution_count": 1,
   "id": "4faacb05-3865-4c8e-bcb8-0b566bc605e0",
   "metadata": {},
   "outputs": [
    {
     "data": {
      "text/plain": [
       "'C:\\\\Users\\\\imaya\\\\Y3S1\\\\FDM\\\\FDM-Project'"
      ]
     },
     "execution_count": 1,
     "metadata": {},
     "output_type": "execute_result"
    }
   ],
   "source": [
    "import os\n",
    "os.getcwd()"
   ]
  },
  {
   "cell_type": "code",
   "execution_count": null,
   "id": "a984af95-9c53-4ec2-9c90-041caff8be59",
   "metadata": {},
   "outputs": [],
   "source": [
    "!streamlit run Main.py"
   ]
  },
  {
   "cell_type": "code",
   "execution_count": null,
   "id": "5f03e0ce-205e-491e-9449-5072dbe8a1c8",
   "metadata": {},
   "outputs": [],
   "source": []
  }
 ],
 "metadata": {
  "kernelspec": {
   "display_name": "Python 3 (ipykernel)",
   "language": "python",
   "name": "python3"
  },
  "language_info": {
   "codemirror_mode": {
    "name": "ipython",
    "version": 3
   },
   "file_extension": ".py",
   "mimetype": "text/x-python",
   "name": "python",
   "nbconvert_exporter": "python",
   "pygments_lexer": "ipython3",
   "version": "3.12.4"
  }
 },
 "nbformat": 4,
 "nbformat_minor": 5
}
